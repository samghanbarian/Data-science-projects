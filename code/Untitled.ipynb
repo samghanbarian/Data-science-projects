{
 "cells": [
  {
   "cell_type": "code",
   "execution_count": 1,
   "id": "c2bd4085",
   "metadata": {},
   "outputs": [
    {
     "name": "stdout",
     "output_type": "stream",
     "text": [
      "a is 23\n"
     ]
    }
   ],
   "source": [
    "a = 23\n",
    "print(f'a is {a}')"
   ]
  },
  {
   "cell_type": "code",
   "execution_count": 2,
   "id": "6d2536f0",
   "metadata": {},
   "outputs": [
    {
     "ename": "TypeError",
     "evalue": "object of type 'int' has no len()",
     "output_type": "error",
     "traceback": [
      "\u001b[1;31m---------------------------------------------------------------------------\u001b[0m",
      "\u001b[1;31mTypeError\u001b[0m                                 Traceback (most recent call last)",
      "Cell \u001b[1;32mIn[2], line 1\u001b[0m\n\u001b[1;32m----> 1\u001b[0m \u001b[38;5;28;43mlen\u001b[39;49m\u001b[43m(\u001b[49m\u001b[43ma\u001b[49m\u001b[43m)\u001b[49m\n",
      "\u001b[1;31mTypeError\u001b[0m: object of type 'int' has no len()"
     ]
    }
   ],
   "source": [
    "len(a)"
   ]
  },
  {
   "cell_type": "code",
   "execution_count": 3,
   "id": "5ffabfee",
   "metadata": {},
   "outputs": [],
   "source": [
    "a=['adgh','hfgf','hf f']"
   ]
  },
  {
   "cell_type": "code",
   "execution_count": 4,
   "id": "30529659",
   "metadata": {},
   "outputs": [
    {
     "data": {
      "text/plain": [
       "[]"
      ]
     },
     "execution_count": 4,
     "metadata": {},
     "output_type": "execute_result"
    }
   ],
   "source": [
    "a[0:0]"
   ]
  },
  {
   "cell_type": "code",
   "execution_count": 8,
   "id": "f1bc8497",
   "metadata": {},
   "outputs": [
    {
     "name": "stdout",
     "output_type": "stream",
     "text": [
      "adgh\n"
     ]
    }
   ],
   "source": [
    "print(a[0])"
   ]
  },
  {
   "cell_type": "code",
   "execution_count": 9,
   "id": "7e5138d1",
   "metadata": {},
   "outputs": [
    {
     "data": {
      "text/plain": [
       "'hf f'"
      ]
     },
     "execution_count": 9,
     "metadata": {},
     "output_type": "execute_result"
    }
   ],
   "source": [
    "a.pop(2)"
   ]
  },
  {
   "cell_type": "code",
   "execution_count": 10,
   "id": "ec919439",
   "metadata": {},
   "outputs": [
    {
     "data": {
      "text/plain": [
       "['adgh', 'hfgf']"
      ]
     },
     "execution_count": 10,
     "metadata": {},
     "output_type": "execute_result"
    }
   ],
   "source": [
    "a"
   ]
  },
  {
   "cell_type": "code",
   "execution_count": 12,
   "id": "e2555361",
   "metadata": {},
   "outputs": [
    {
     "data": {
      "text/plain": [
       "'i'"
      ]
     },
     "execution_count": 12,
     "metadata": {},
     "output_type": "execute_result"
    }
   ],
   "source": [
    "a='thi sis a str'\n",
    "a[5]"
   ]
  },
  {
   "cell_type": "code",
   "execution_count": 13,
   "id": "c0e1bbef",
   "metadata": {},
   "outputs": [
    {
     "data": {
      "text/plain": [
       "' thi sis a str*thi sis a str '"
      ]
     },
     "execution_count": 13,
     "metadata": {},
     "output_type": "execute_result"
    }
   ],
   "source": [
    "a.join(' * ')"
   ]
  },
  {
   "cell_type": "code",
   "execution_count": 14,
   "id": "083fa600",
   "metadata": {},
   "outputs": [
    {
     "name": "stdout",
     "output_type": "stream",
     "text": [
      "thi sis a str\n"
     ]
    }
   ],
   "source": [
    "print(a)"
   ]
  },
  {
   "cell_type": "code",
   "execution_count": 35,
   "id": "08dfd8dd",
   "metadata": {},
   "outputs": [],
   "source": [
    "a=['adgh','hfgf','hf f']"
   ]
  },
  {
   "cell_type": "code",
   "execution_count": 36,
   "id": "866c9a85",
   "metadata": {},
   "outputs": [
    {
     "data": {
      "text/plain": [
       "'adgh*hfgf*hf f'"
      ]
     },
     "execution_count": 36,
     "metadata": {},
     "output_type": "execute_result"
    }
   ],
   "source": [
    "'*'.join()"
   ]
  },
  {
   "cell_type": "code",
   "execution_count": 17,
   "id": "0c37ac32",
   "metadata": {},
   "outputs": [
    {
     "ename": "AttributeError",
     "evalue": "'list' object has no attribute 'join'",
     "output_type": "error",
     "traceback": [
      "\u001b[1;31m---------------------------------------------------------------------------\u001b[0m",
      "\u001b[1;31mAttributeError\u001b[0m                            Traceback (most recent call last)",
      "Cell \u001b[1;32mIn[17], line 1\u001b[0m\n\u001b[1;32m----> 1\u001b[0m \u001b[43ma\u001b[49m\u001b[38;5;241;43m.\u001b[39;49m\u001b[43mjoin\u001b[49m(\u001b[38;5;124m'\u001b[39m\u001b[38;5;124m,\u001b[39m\u001b[38;5;124m'\u001b[39m)\n",
      "\u001b[1;31mAttributeError\u001b[0m: 'list' object has no attribute 'join'"
     ]
    }
   ],
   "source": [
    "a.join(',')"
   ]
  },
  {
   "cell_type": "code",
   "execution_count": 20,
   "id": "492024b7",
   "metadata": {},
   "outputs": [],
   "source": [
    "a='this is a list'"
   ]
  },
  {
   "cell_type": "code",
   "execution_count": 23,
   "id": "22134211",
   "metadata": {},
   "outputs": [
    {
     "name": "stdout",
     "output_type": "stream",
     "text": [
      " this is a list*this is a list \n"
     ]
    }
   ],
   "source": [
    "print(a.join(' * '))"
   ]
  },
  {
   "cell_type": "code",
   "execution_count": 31,
   "id": "a81cbd82",
   "metadata": {},
   "outputs": [
    {
     "name": "stdout",
     "output_type": "stream",
     "text": [
      "this is an my hfg for car\n"
     ]
    }
   ],
   "source": [
    "tb=['an','hfg','car']\n",
    "print('this is {} my {} for {}'.format(tb[0],tb[1],tb[2]))"
   ]
  },
  {
   "cell_type": "code",
   "execution_count": 34,
   "id": "a2cc1f5d",
   "metadata": {},
   "outputs": [
    {
     "data": {
      "text/plain": [
       "'t*h*i*s* *i*s* *a* *l*i*s*t'"
      ]
     },
     "execution_count": 34,
     "metadata": {},
     "output_type": "execute_result"
    }
   ],
   "source": [
    "'*'.join(a)"
   ]
  },
  {
   "cell_type": "code",
   "execution_count": 37,
   "id": "ce8e225c",
   "metadata": {},
   "outputs": [
    {
     "data": {
      "text/plain": [
       "['adgh', 'hfgf', 'hf f']"
      ]
     },
     "execution_count": 37,
     "metadata": {},
     "output_type": "execute_result"
    }
   ],
   "source": [
    "a"
   ]
  },
  {
   "cell_type": "code",
   "execution_count": 39,
   "id": "9457e50e",
   "metadata": {},
   "outputs": [
    {
     "data": {
      "text/plain": [
       "0"
      ]
     },
     "execution_count": 39,
     "metadata": {},
     "output_type": "execute_result"
    }
   ],
   "source": [
    "a.count('hf')"
   ]
  },
  {
   "cell_type": "code",
   "execution_count": null,
   "id": "f76eb023",
   "metadata": {},
   "outputs": [],
   "source": []
  }
 ],
 "metadata": {
  "kernelspec": {
   "display_name": "Python 3 (ipykernel)",
   "language": "python",
   "name": "python3"
  },
  "language_info": {
   "codemirror_mode": {
    "name": "ipython",
    "version": 3
   },
   "file_extension": ".py",
   "mimetype": "text/x-python",
   "name": "python",
   "nbconvert_exporter": "python",
   "pygments_lexer": "ipython3",
   "version": "3.10.9"
  }
 },
 "nbformat": 4,
 "nbformat_minor": 5
}
