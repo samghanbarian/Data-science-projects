{
 "cells": [
  {
   "cell_type": "code",
   "execution_count": 1,
   "id": "a4672a02",
   "metadata": {},
   "outputs": [],
   "source": [
    "from datetime import datetime, timedelta"
   ]
  },
  {
   "cell_type": "code",
   "execution_count": 17,
   "id": "037cfbba",
   "metadata": {},
   "outputs": [
    {
     "name": "stdout",
     "output_type": "stream",
     "text": [
      "23\n"
     ]
    }
   ],
   "source": [
    "def calculate_age(bithyear):\n",
    "    birthyear = input()\n",
    "\n",
    "\n",
    "age = datetime.today().year - 2000\n",
    "month = age * 12\n",
    "days = age * 365\n",
    "if (age %):\n",
    "    "
   ]
  },
  {
   "cell_type": "code",
   "execution_count": 20,
   "id": "77e7a28b",
   "metadata": {},
   "outputs": [
    {
     "name": "stdout",
     "output_type": "stream",
     "text": [
      "a\n",
      "b\n",
      "d\n",
      "h\n",
      " \n",
      "j\n",
      "d\n",
      "i\n",
      "k\n",
      "j\n"
     ]
    }
   ],
   "source": [
    "dict = {'a':1  ,'b' :2}\n",
    "str = 'abdh jdikj'\n",
    "for i in str:\n",
    "    print(i)"
   ]
  },
  {
   "cell_type": "code",
   "execution_count": 24,
   "id": "16d715cd",
   "metadata": {},
   "outputs": [
    {
     "data": {
      "text/plain": [
       "<function dict.values>"
      ]
     },
     "execution_count": 24,
     "metadata": {},
     "output_type": "execute_result"
    }
   ],
   "source": [
    "dict.values"
   ]
  },
  {
   "cell_type": "code",
   "execution_count": 31,
   "id": "61db4d31",
   "metadata": {},
   "outputs": [],
   "source": [
    "def count_letter(str):\n",
    "    dict ={}\n",
    "    for i in str:\n",
    "        if not i in dict.keys():\n",
    "            dict[i]= 1\n",
    "        else:\n",
    "            dict[i] +=1\n",
    "            \n",
    "    return dict\n",
    "\n"
   ]
  },
  {
   "cell_type": "code",
   "execution_count": 32,
   "id": "ae438c02",
   "metadata": {},
   "outputs": [
    {
     "data": {
      "text/plain": [
       "{'y': 1, 'h': 1, 'i': 2, 's': 2, ' ': 2, 'c': 1, 'o': 2, 'l': 1}"
      ]
     },
     "execution_count": 32,
     "metadata": {},
     "output_type": "execute_result"
    }
   ],
   "source": [
    "count_letter('yhis is cool')"
   ]
  },
  {
   "cell_type": "code",
   "execution_count": 29,
   "id": "f49de3d3",
   "metadata": {},
   "outputs": [
    {
     "data": {
      "text/plain": [
       "dict_keys(['a', 'b'])"
      ]
     },
     "execution_count": 29,
     "metadata": {},
     "output_type": "execute_result"
    }
   ],
   "source": [
    "dict.keys()"
   ]
  },
  {
   "cell_type": "code",
   "execution_count": 34,
   "id": "1b2a5574",
   "metadata": {},
   "outputs": [],
   "source": [
    "import random"
   ]
  },
  {
   "cell_type": "code",
   "execution_count": 51,
   "id": "76eee1d3",
   "metadata": {},
   "outputs": [
    {
     "name": "stdout",
     "output_type": "stream",
     "text": [
      "it is a tie with 0 pints\n"
     ]
    }
   ],
   "source": [
    "player1_point = 0\n",
    "player2_point = 0\n",
    "for i in range(1000):\n",
    "#     player1 =random.randint(1,6)\n",
    "#     player2 =random.randint(1,6)\n",
    "\n",
    "    if player1 > player2:\n",
    "        player1_point += player1\n",
    "    elif player2 > player1:\n",
    "        player2_point += player2\n",
    "        \n",
    "if player1_point > player2_point:\n",
    "    print(f'the player 1 is the winner with {player1_point}')\n",
    "elif player1_point < player2_point:\n",
    "    print(f'the player 2 is the winner with {player2_point}')\n",
    "else:\n",
    "    print(f\"it is a tie with {player2_point} points\")"
   ]
  },
  {
   "cell_type": "code",
   "execution_count": null,
   "id": "271b7cb9",
   "metadata": {},
   "outputs": [],
   "source": []
  },
  {
   "cell_type": "code",
   "execution_count": null,
   "id": "a0fa0436",
   "metadata": {},
   "outputs": [],
   "source": []
  },
  {
   "cell_type": "code",
   "execution_count": null,
   "id": "de9fcc6d",
   "metadata": {},
   "outputs": [],
   "source": []
  }
 ],
 "metadata": {
  "kernelspec": {
   "display_name": "Python 3 (ipykernel)",
   "language": "python",
   "name": "python3"
  },
  "language_info": {
   "codemirror_mode": {
    "name": "ipython",
    "version": 3
   },
   "file_extension": ".py",
   "mimetype": "text/x-python",
   "name": "python",
   "nbconvert_exporter": "python",
   "pygments_lexer": "ipython3",
   "version": "3.10.9"
  }
 },
 "nbformat": 4,
 "nbformat_minor": 5
}
