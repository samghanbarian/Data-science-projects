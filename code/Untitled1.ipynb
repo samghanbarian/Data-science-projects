{
 "cells": [
  {
   "cell_type": "code",
   "execution_count": 1,
   "id": "b94266e7",
   "metadata": {},
   "outputs": [],
   "source": [
    "from datetime import datetime, timedelta"
   ]
  },
  {
   "cell_type": "code",
   "execution_count": 17,
   "id": "71de17a4",
   "metadata": {},
   "outputs": [
    {
     "name": "stdout",
     "output_type": "stream",
     "text": [
      "23\n"
     ]
    }
   ],
   "source": [
    "def calculate_age(bithyear):\n",
    "    birthyear = input()\n",
    "\n",
    "\n",
    "age = datetime.today().year - 2000\n",
    "month = age * 12\n",
    "days = age * 365\n",
    "if (age %):\n",
    "    "
   ]
  },
  {
   "cell_type": "code",
   "execution_count": 20,
   "id": "d9974796",
   "metadata": {},
   "outputs": [
    {
     "name": "stdout",
     "output_type": "stream",
     "text": [
      "a\n",
      "b\n",
      "d\n",
      "h\n",
      " \n",
      "j\n",
      "d\n",
      "i\n",
      "k\n",
      "j\n"
     ]
    }
   ],
   "source": [
    "dict = {'a':1  ,'b' :2}\n",
    "str = 'abdh jdikj'\n",
    "for i in str:\n",
    "    print(i)"
   ]
  },
  {
   "cell_type": "code",
   "execution_count": 24,
   "id": "608b6920",
   "metadata": {},
   "outputs": [
    {
     "data": {
      "text/plain": [
       "<function dict.values>"
      ]
     },
     "execution_count": 24,
     "metadata": {},
     "output_type": "execute_result"
    }
   ],
   "source": [
    "dict.values"
   ]
  },
  {
   "cell_type": "code",
   "execution_count": 31,
   "id": "04ce7861",
   "metadata": {},
   "outputs": [],
   "source": [
    "def count_letter(str):\n",
    "    dict ={}\n",
    "    for i in str:\n",
    "        if not i in dict.keys():\n",
    "            dict[i]= 1\n",
    "        else:\n",
    "            dict[i] +=1\n",
    "            \n",
    "    return dict\n",
    "\n"
   ]
  },
  {
   "cell_type": "code",
   "execution_count": 32,
   "id": "7bcb7cfa",
   "metadata": {},
   "outputs": [
    {
     "data": {
      "text/plain": [
       "{'y': 1, 'h': 1, 'i': 2, 's': 2, ' ': 2, 'c': 1, 'o': 2, 'l': 1}"
      ]
     },
     "execution_count": 32,
     "metadata": {},
     "output_type": "execute_result"
    }
   ],
   "source": [
    "count_letter('yhis is cool')"
   ]
  },
  {
   "cell_type": "code",
   "execution_count": 29,
   "id": "2ac008ef",
   "metadata": {},
   "outputs": [
    {
     "data": {
      "text/plain": [
       "dict_keys(['a', 'b'])"
      ]
     },
     "execution_count": 29,
     "metadata": {},
     "output_type": "execute_result"
    }
   ],
   "source": [
    "dict.keys()"
   ]
  },
  {
   "cell_type": "code",
   "execution_count": 34,
   "id": "d02c07d5",
   "metadata": {},
   "outputs": [],
   "source": [
    "import random"
   ]
  },
  {
   "cell_type": "code",
   "execution_count": 55,
   "id": "c73e747b",
   "metadata": {},
   "outputs": [
    {
     "name": "stdout",
     "output_type": "stream",
     "text": [
      "the player 1 is the winner with 451\n"
     ]
    }
   ],
   "source": [
    "player1_point = 0\n",
    "player2_point = 0\n",
    "for i in range(1000):\n",
    "    player1 =random.randint(1,6)\n",
    "    player2 =random.randint(1,6)\n",
    "\n",
    "    if player1 > player2:\n",
    "        player1_point += 1\n",
    "    elif player2 > player1:\n",
    "        player2_point += 1\n",
    "    \n",
    "        \n",
    "if player1_point > player2_point:\n",
    "    print(f'the player 1 is the winner with {player1_point}')\n",
    "elif player1_point < player2_point:\n",
    "    print(f'the player 2 is the winner with {player2_point}')\n",
    "else:\n",
    "    print(f\"it is a tie with {player2_point} points\")"
   ]
  },
  {
   "cell_type": "code",
   "execution_count": 75,
   "id": "345e33b9",
   "metadata": {},
   "outputs": [],
   "source": [
    "player1_points = 0\n",
    "player2_points = 0\n",
    "player1=[]\n",
    "player2=[]\n",
    "for i in range(5):\n",
    "    player1.append(random.randint(1,6))\n",
    "    player2.append(random.randint(1,6))\n",
    "#     print(i)"
   ]
  },
  {
   "cell_type": "code",
   "execution_count": 77,
   "id": "12649955",
   "metadata": {},
   "outputs": [
    {
     "data": {
      "text/plain": [
       "' a d  fjf '"
      ]
     },
     "execution_count": 77,
     "metadata": {},
     "output_type": "execute_result"
    }
   ],
   "source": [
    "a"
   ]
  },
  {
   "cell_type": "code",
   "execution_count": 82,
   "id": "7a37dff5",
   "metadata": {},
   "outputs": [
    {
     "data": {
      "text/plain": [
       "6"
      ]
     },
     "execution_count": 82,
     "metadata": {},
     "output_type": "execute_result"
    }
   ],
   "source": [
    "a.find('f')"
   ]
  },
  {
   "cell_type": "code",
   "execution_count": null,
   "id": "5a332890",
   "metadata": {},
   "outputs": [],
   "source": []
  }
 ],
 "metadata": {
  "kernelspec": {
   "display_name": "Python 3 (ipykernel)",
   "language": "python",
   "name": "python3"
  },
  "language_info": {
   "codemirror_mode": {
    "name": "ipython",
    "version": 3
   },
   "file_extension": ".py",
   "mimetype": "text/x-python",
   "name": "python",
   "nbconvert_exporter": "python",
   "pygments_lexer": "ipython3",
   "version": "3.10.9"
  }
 },
 "nbformat": 4,
 "nbformat_minor": 5
}
